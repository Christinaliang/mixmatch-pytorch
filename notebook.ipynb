{
  "nbformat": 4,
  "nbformat_minor": 0,
  "metadata": {
    "colab": {
      "name": "mixmatch.ipynb",
      "version": "0.3.2",
      "provenance": [],
      "collapsed_sections": [],
      "include_colab_link": true
    },
    "kernelspec": {
      "name": "python3",
      "display_name": "Python 3"
    }
  },
  "cells": [
    {
      "cell_type": "markdown",
      "metadata": {
        "id": "view-in-github",
        "colab_type": "text"
      },
      "source": [
        "<a href=\"https://colab.research.google.com/github/gan3sh500/mixmatch-pytorch/blob/master/notebook.ipynb\" target=\"_parent\"><img src=\"https://colab.research.google.com/assets/colab-badge.svg\" alt=\"Open In Colab\"/></a>"
      ]
    },
    {
      "cell_type": "code",
      "metadata": {
        "id": "zkPKM_FeXCUG",
        "colab_type": "code",
        "colab": {}
      },
      "source": [
        "import torch\n",
        "import numpy as np\n",
        "import imgaug as ia\n",
        "import imgaug.augmenters as iaa"
      ],
      "execution_count": 0,
      "outputs": []
    },
    {
      "cell_type": "code",
      "metadata": {
        "id": "yKrQ2XsBXLlN",
        "colab_type": "code",
        "colab": {}
      },
      "source": [
        "def get_augmentor():\n",
        "    seq = iaa.Sequential([\n",
        "        iaa.Crop(px=(0, 16)),\n",
        "        iaa.Fliplr(0.5),\n",
        "        iaa.GaussianBlur(sigma=(0, 3.0))\n",
        "    ])\n",
        "    def augment(images):\n",
        "        return seq.augment(images.transpose(0, 2, 3, 1)).transpose(0, 2, 3, 1)\n",
        "    return augment"
      ],
      "execution_count": 0,
      "outputs": []
    },
    {
      "cell_type": "code",
      "metadata": {
        "id": "G_DDDq0qYP5E",
        "colab_type": "code",
        "colab": {}
      },
      "source": [
        "def sharpen(x, T):\n",
        "    temp = x**(1/T)\n",
        "    return temp / temp.sum(axis=1, keepdims=True)"
      ],
      "execution_count": 0,
      "outputs": []
    },
    {
      "cell_type": "code",
      "metadata": {
        "id": "Q21aM3biiVgi",
        "colab_type": "code",
        "colab": {}
      },
      "source": [
        "def mixup(x1, x2, y1, y2, alpha):\n",
        "    beta = np.random.beta(alpha, -alpha)\n",
        "    x = beta * x1 + (1 - beta) * x2\n",
        "    y = beta * y1 + (1 - beta) * y2\n",
        "    return x, y"
      ],
      "execution_count": 0,
      "outputs": []
    },
    {
      "cell_type": "code",
      "metadata": {
        "id": "cE2Yi1WWiZNi",
        "colab_type": "code",
        "colab": {}
      },
      "source": [
        "def mixmatch(x, y, u, model, augment_fn, T=0.5, K=2, alpha=0.75):\n",
        "    xb = augment_fn(x)\n",
        "    ub = [augment_fn(u) for _ in range(K)]\n",
        "    qb = sharpen(sum(map(lambda i: model(i), ub)) / K)\n",
        "    Ux = np.concatenate(ub, axis=0)\n",
        "    Uy = np.concatenate([qb for _ in range(K)], axis=0)\n",
        "    indices = np.random.shuffle(np.arange(len(xb) + len(Ux)))\n",
        "    Wx = np.concatenate([Ux, xb], axis=0)[indices]\n",
        "    Wy = np.concatenate([qb, y], axis=0)[indices]\n",
        "    X, p = mixup(xb, Wx[:len(xb)], y, Wy[:len(xb)], alpha)\n",
        "    U, q = mixup(Ux, Wx[len(xb):], Uy, Wy[len(xb):], alpha)\n",
        "    return X, p, U, q"
      ],
      "execution_count": 0,
      "outputs": []
    },
    {
      "cell_type": "code",
      "metadata": {
        "id": "K5ylws-0kziT",
        "colab_type": "code",
        "colab": {}
      },
      "source": [
        "class MixMatchLoss(torch.nn.Module):\n",
        "    def __init__(self, lambda_u=100):\n",
        "        self.lambda_u = lambda_u\n",
        "        self.xent = torch.nn.CrossEntropyLoss()\n",
        "        self.mse = torch.nn.MSELoss()\n",
        "        super(MixMatchLoss, self).__init__()\n",
        "    \n",
        "    def forward(X, U, p, q):\n",
        "        X_ = np.concatenate([X, U], axis=1)\n",
        "        y_ = np.concatenate([p, q], axis=1)\n",
        "        return self.xent(preds[:len(p)], p) + self.mse(preds[len(p):], q)"
      ],
      "execution_count": 0,
      "outputs": []
    }
  ]
}